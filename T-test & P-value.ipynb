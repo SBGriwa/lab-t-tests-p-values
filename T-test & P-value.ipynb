{
 "cells": [
  {
   "cell_type": "code",
   "execution_count": 5,
   "id": "8cfdcc50",
   "metadata": {},
   "outputs": [],
   "source": [
    "import pandas as pd\n",
    "import numpy as np\n",
    "import datetime\n",
    "import math\n",
    "import scipy.stats as stats\n",
    "from scipy.stats import ttest_ind, norm\n",
    "import warnings\n",
    "import matplotlib.pyplot as plt\n",
    "import seaborn as sns\n",
    "warnings.filterwarnings('ignore')"
   ]
  },
  {
   "cell_type": "markdown",
   "id": "037cd09f",
   "metadata": {},
   "source": [
    "1_We will have another simple example on two sample t test (pooled- when the variances are equal). But this time this is a one sided t-test\n"
   ]
  },
  {
   "cell_type": "code",
   "execution_count": 7,
   "id": "74daa3b5",
   "metadata": {},
   "outputs": [],
   "source": [
    "New_machine = [42.1,41,41.3,41.8,42.4,42.8,43.2,42.3,41.8,42.7]\n",
    "Old_machine = [42.7,43.6,43.8,43.3,42.5,43.5,43.1,41.7,44,44.1]\n"
   ]
  },
  {
   "cell_type": "code",
   "execution_count": 8,
   "id": "bbcce318",
   "metadata": {},
   "outputs": [
    {
     "data": {
      "text/plain": [
       "(10, 42.14, 0.6483826030978941)"
      ]
     },
     "execution_count": 8,
     "metadata": {},
     "output_type": "execute_result"
    }
   ],
   "source": [
    "len(New_machine), np.mean(New_machine), np.std(New_machine)\n"
   ]
  },
  {
   "cell_type": "code",
   "execution_count": 9,
   "id": "f5b7c96d",
   "metadata": {},
   "outputs": [
    {
     "data": {
      "text/plain": [
       "(10, 43.230000000000004, 0.7114070564732956)"
      ]
     },
     "execution_count": 9,
     "metadata": {},
     "output_type": "execute_result"
    }
   ],
   "source": [
    "len(Old_machine), np.mean(Old_machine), np.std(Old_machine)\n"
   ]
  },
  {
   "cell_type": "code",
   "execution_count": 10,
   "id": "8292045c",
   "metadata": {},
   "outputs": [
    {
     "data": {
      "text/plain": [
       "Ttest_indResult(statistic=-3.3972307061176026, pvalue=0.0032111425007745158)"
      ]
     },
     "execution_count": 10,
     "metadata": {},
     "output_type": "execute_result"
    }
   ],
   "source": [
    "New_machine = [42.1,41,41.3,41.8,42.4,42.8,43.2,42.3,41.8,42.7]\n",
    "Old_machine = [42.7,43.6,43.8,43.3,42.5,43.5,43.1,41.7,44,44.1]\n",
    "ttest_ind(New_machine, Old_machine)\n"
   ]
  },
  {
   "cell_type": "markdown",
   "id": "9ce78800",
   "metadata": {},
   "source": [
    "conclusion : we have negative statistic score and low p-value we are quite sure the new machine is faster than the older.\n"
   ]
  },
  {
   "cell_type": "markdown",
   "id": "e93442e6",
   "metadata": {},
   "source": [
    "2_Additional problem : At the 5% significance level, do the data provide sufficient evidence to conclude that the mean GPAs of sophomores and juniors at the university differ?\n"
   ]
  },
  {
   "cell_type": "code",
   "execution_count": 15,
   "id": "ab7f7120",
   "metadata": {},
   "outputs": [],
   "source": [
    "Sophmores = [3.04,1.71,3.3,2.88,2.11,2.6,2.92,3.6,2.28,2.82,3.03,3.13,2.86,3.49,3.11,2.13,3.27]\n",
    "Juniors = [2.56,2.77,2.7,3,2.98,3.47,3.26,3.2,3.19,2.65,3,3.39,2.58]\n"
   ]
  },
  {
   "cell_type": "code",
   "execution_count": 16,
   "id": "80855dc4",
   "metadata": {},
   "outputs": [
    {
     "data": {
      "text/plain": [
       "(17, 2.84, 0.5043108285221584)"
      ]
     },
     "execution_count": 16,
     "metadata": {},
     "output_type": "execute_result"
    }
   ],
   "source": [
    "len(Sophmores), np.mean(Sophmores), np.std(Sophmores)\n"
   ]
  },
  {
   "cell_type": "code",
   "execution_count": 17,
   "id": "fc92003d",
   "metadata": {},
   "outputs": [
    {
     "data": {
      "text/plain": [
       "(13, 2.980769230769231, 0.29712627562812255)"
      ]
     },
     "execution_count": 17,
     "metadata": {},
     "output_type": "execute_result"
    }
   ],
   "source": [
    "len(Juniors), np.mean(Juniors), np.std(Juniors)\n"
   ]
  },
  {
   "cell_type": "code",
   "execution_count": 18,
   "id": "d2461059",
   "metadata": {},
   "outputs": [
    {
     "data": {
      "text/plain": [
       "Ttest_indResult(statistic=-0.864325455323425, pvalue=0.39475359666695975)"
      ]
     },
     "execution_count": 18,
     "metadata": {},
     "output_type": "execute_result"
    }
   ],
   "source": [
    "ttest_ind(Sophmores, Juniors)\n"
   ]
  },
  {
   "cell_type": "code",
   "execution_count": null,
   "id": "4ae72f9a",
   "metadata": {},
   "outputs": [],
   "source": [
    "# high p-value : we don't have sufficient evidence to reject the null hypothesis.\n"
   ]
  },
  {
   "cell_type": "markdown",
   "id": "35590e79",
   "metadata": {},
   "source": [
    "Statistics test\n"
   ]
  },
  {
   "cell_type": "code",
   "execution_count": 25,
   "id": "a0d2776b",
   "metadata": {},
   "outputs": [],
   "source": [
    "#sophomores\n",
    "#Significance Level α = 0.05 \n",
    "#critical value 1 - α = 0.95\n",
    "n1 = 17\n",
    "α = 0.05\n",
    "mean1 = 2.90\n",
    "σ1 = 0.50\n"
   ]
  },
  {
   "cell_type": "code",
   "execution_count": 26,
   "id": "8bf2d302",
   "metadata": {},
   "outputs": [],
   "source": [
    "#juniors\n",
    "#Significance Level α = 0.05 \n",
    "#critical value 1 - α = 0.95\n",
    "n2 = 13\n",
    "α = 0.05\n",
    "mean2 = 2.98\n",
    "σ2 = 0.30\n"
   ]
  },
  {
   "cell_type": "code",
   "execution_count": 27,
   "id": "6177f542",
   "metadata": {},
   "outputs": [
    {
     "data": {
      "text/plain": [
       "28"
      ]
     },
     "execution_count": 27,
     "metadata": {},
     "output_type": "execute_result"
    }
   ],
   "source": [
    "#degree of freedom (df)\n",
    "df = (n1-1)+(n2-1)\n",
    "df \n"
   ]
  },
  {
   "cell_type": "code",
   "execution_count": 39,
   "id": "26dadded",
   "metadata": {},
   "outputs": [
    {
     "data": {
      "text/plain": [
       "-0.5439665261667841"
      ]
     },
     "execution_count": 39,
     "metadata": {},
     "output_type": "execute_result"
    }
   ],
   "source": [
    "t_score = (mean1-mean2)/math.sqrt((σ1**2/n1)+(σ2**2/n2))\n",
    "t_score\n"
   ]
  },
  {
   "cell_type": "code",
   "execution_count": 35,
   "id": "0b8c3230",
   "metadata": {},
   "outputs": [
    {
     "data": {
      "text/plain": [
       "1.701"
      ]
     },
     "execution_count": 35,
     "metadata": {},
     "output_type": "execute_result"
    }
   ],
   "source": [
    "Critical_value = stats.t.ppf(0.95, 28)\n",
    "round(Critical_value, 3)\n"
   ]
  },
  {
   "cell_type": "markdown",
   "id": "8b7eccd0",
   "metadata": {},
   "source": [
    "Concluson :t-score dosen't belong to the critical region, we reject null hypothesis.\n",
    "    "
   ]
  }
 ],
 "metadata": {
  "kernelspec": {
   "display_name": "Python 3 (ipykernel)",
   "language": "python",
   "name": "python3"
  },
  "language_info": {
   "codemirror_mode": {
    "name": "ipython",
    "version": 3
   },
   "file_extension": ".py",
   "mimetype": "text/x-python",
   "name": "python",
   "nbconvert_exporter": "python",
   "pygments_lexer": "ipython3",
   "version": "3.9.12"
  }
 },
 "nbformat": 4,
 "nbformat_minor": 5
}
